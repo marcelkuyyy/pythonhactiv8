{
 "cells": [
  {
   "cell_type": "code",
   "execution_count": null,
   "metadata": {},
   "outputs": [],
   "source": []
  },
  {
   "cell_type": "markdown",
   "metadata": {},
   "source": [
    "# Condition, Control Flow, and Looping"
   ]
  },
  {
   "cell_type": "code",
   "execution_count": 1,
   "metadata": {},
   "outputs": [
    {
     "name": "stdout",
     "output_type": "stream",
     "text": [
      "False\n",
      "True\n",
      "True\n",
      "False\n",
      "True\n",
      "False\n"
     ]
    }
   ],
   "source": [
    "from cmath import pi\n",
    "\n",
    "\n",
    "a = 10\n",
    "b = 20\n",
    "\n",
    "print(a ==b)\n",
    "print(a != b)\n",
    "print(a <= b)\n",
    "print(a>=b)\n",
    "print(a<b)\n",
    "print(a>b)\n"
   ]
  },
  {
   "cell_type": "code",
   "execution_count": 2,
   "metadata": {},
   "outputs": [
    {
     "name": "stdout",
     "output_type": "stream",
     "text": [
      "a tidak sama dengan b\n"
     ]
    }
   ],
   "source": [
    "if a != b:\n",
    "    print(\"a tidak sama dengan b\")"
   ]
  },
  {
   "cell_type": "code",
   "execution_count": 3,
   "metadata": {},
   "outputs": [],
   "source": [
    "if a == b:\n",
    "    print(\"a tidak sama dengan b\")"
   ]
  },
  {
   "cell_type": "code",
   "execution_count": 4,
   "metadata": {},
   "outputs": [],
   "source": [
    "if a == b:\n",
    "    print(a)\n",
    "    print(a/10)\n",
    "    print(b)\n",
    "    print(\"a tidak sama dengan b\")"
   ]
  },
  {
   "cell_type": "code",
   "execution_count": 5,
   "metadata": {},
   "outputs": [],
   "source": [
    "if \"foo\" in \"This is our goods\":\n",
    "    property(\"foo exists\")"
   ]
  },
  {
   "cell_type": "code",
   "execution_count": 6,
   "metadata": {},
   "outputs": [],
   "source": [
    "list1 = [10, 50,30,40]\n",
    "if 20 in list1:\n",
    "    print('ada 20 didalam')"
   ]
  },
  {
   "cell_type": "code",
   "execution_count": 7,
   "metadata": {},
   "outputs": [
    {
     "name": "stdout",
     "output_type": "stream",
     "text": [
      "10\n",
      "1.0\n",
      "20\n",
      "a tidak sama dengan b\n",
      "ini di luar if statement\n"
     ]
    }
   ],
   "source": [
    "\n",
    "if a != b:\n",
    "    print(a)\n",
    "    print(a/10)\n",
    "    print(b)\n",
    "    print(\"a tidak sama dengan b\")\n",
    "\n",
    "print('ini di luar if statement')"
   ]
  },
  {
   "cell_type": "code",
   "execution_count": 8,
   "metadata": {},
   "outputs": [
    {
     "name": "stdout",
     "output_type": "stream",
     "text": [
      "ini di luar if statement\n"
     ]
    }
   ],
   "source": [
    "if a == b:\n",
    "    print(a)\n",
    "    print(a/10)\n",
    "    print(b)\n",
    "    print(\"a tidak sama dengan b\")\n",
    "\n",
    "print('ini di luar if statement')"
   ]
  },
  {
   "cell_type": "code",
   "execution_count": 9,
   "metadata": {},
   "outputs": [
    {
     "name": "stdout",
     "output_type": "stream",
     "text": [
      "10\n",
      "1.0\n",
      "20\n",
      "a tidak sama dengan b\n",
      "ini di luar if statement\n"
     ]
    }
   ],
   "source": [
    "if not (a == b):\n",
    "    print(a)\n",
    "    print(a/10)\n",
    "    print(b)\n",
    "    print(\"a tidak sama dengan b\")\n",
    "\n",
    "print('ini di luar if statement')"
   ]
  },
  {
   "cell_type": "code",
   "execution_count": 11,
   "metadata": {},
   "outputs": [
    {
     "name": "stdout",
     "output_type": "stream",
     "text": [
      "a tidaksama dengan b\n",
      "a lebih kecil dari b\n",
      "statement di dalam if pertama tapi di luar if kedua\n"
     ]
    }
   ],
   "source": [
    "if a != b:\n",
    "    print('a tidaksama dengan b')\n",
    "    if a <b :\n",
    "        print('a lebih kecil dari b')\n",
    "    \n",
    "    print('statement di dalam if pertama tapi di luar if kedua')\n",
    "    \n",
    "    if a>b:\n",
    "        print('a lebih besar dari b')"
   ]
  },
  {
   "cell_type": "code",
   "execution_count": 13,
   "metadata": {},
   "outputs": [
    {
     "name": "stdout",
     "output_type": "stream",
     "text": [
      "a tidak sama dengan b\n"
     ]
    }
   ],
   "source": [
    "if a != b:\n",
    "    print('a tidak sama dengan b')\n",
    "else:\n",
    "    print('a sama dengan b')"
   ]
  },
  {
   "cell_type": "code",
   "execution_count": 14,
   "metadata": {},
   "outputs": [
    {
     "name": "stdout",
     "output_type": "stream",
     "text": [
      "a sama dengan b\n"
     ]
    }
   ],
   "source": [
    "a = 20\n",
    "b = 20\n",
    "\n",
    "if a != b:\n",
    "    print('a tidak sama dengan b')\n",
    "else:\n",
    "    print('a sama dengan b')"
   ]
  },
  {
   "cell_type": "code",
   "execution_count": 19,
   "metadata": {},
   "outputs": [
    {
     "name": "stdout",
     "output_type": "stream",
     "text": [
      "a lebih besar dari b\n"
     ]
    }
   ],
   "source": [
    "a = 50\n",
    "b = 20\n",
    "\n",
    "if a == b:\n",
    "    print('a sama dengan b')\n",
    "elif a < b:\n",
    "    print('a lebih kecil dari b')\n",
    "elif a > b:\n",
    "    print('a lebih besar dari b')"
   ]
  },
  {
   "cell_type": "code",
   "execution_count": 21,
   "metadata": {},
   "outputs": [
    {
     "name": "stdout",
     "output_type": "stream",
     "text": [
      "a sama dengan b\n"
     ]
    }
   ],
   "source": [
    "a = 50\n",
    "b = 50\n",
    "\n",
    "if a == b:\n",
    "    print('a sama dengan b')\n",
    "elif a & b == 0:\n",
    "    print('a lebih kecil dari b')\n",
    "elif a > b:\n",
    "    print('a lebih besar dari b')"
   ]
  },
  {
   "cell_type": "code",
   "execution_count": 23,
   "metadata": {},
   "outputs": [
    {
     "name": "stdout",
     "output_type": "stream",
     "text": [
      "a sama dengan b\n",
      "print kedua\n"
     ]
    }
   ],
   "source": [
    "if a==b:print('a sama dengan b');print('print kedua')\n",
    "elif a>b:print('a lebih besar dari b')\n",
    "else: print('a lebih kecil dari b')"
   ]
  },
  {
   "cell_type": "code",
   "execution_count": 24,
   "metadata": {},
   "outputs": [
    {
     "data": {
      "text/plain": [
       "'di luar hujan'"
      ]
     },
     "execution_count": 24,
     "metadata": {},
     "output_type": "execute_result"
    }
   ],
   "source": [
    "hujan = True\n",
    "\n",
    "'di luar hujan' if hujan else 'di luar'"
   ]
  },
  {
   "cell_type": "code",
   "execution_count": 27,
   "metadata": {},
   "outputs": [
    {
     "name": "stdout",
     "output_type": "stream",
     "text": [
      "Ayo pergi ke pantai\n"
     ]
    }
   ],
   "source": [
    "hujan = False\n",
    "\n",
    "'di luar hujan' if hujan else 'di luar cerah'\n",
    "\n",
    "print('Ayo pergi ke', 'pantai' if not hujan else 'cafe')"
   ]
  },
  {
   "cell_type": "code",
   "execution_count": 31,
   "metadata": {},
   "outputs": [
    {
     "data": {
      "text/plain": [
       "'belum punya KTP'"
      ]
     },
     "execution_count": 31,
     "metadata": {},
     "output_type": "execute_result"
    }
   ],
   "source": [
    "umur = 15\n",
    "\n",
    "if umur < 17:\n",
    "    status_ktp = 'belum punya KTP'\n",
    "else:\n",
    "    status_ktp = 'sudah punya KTP'\n",
    "\n",
    "status_ktp = 'belum punya KTP' if umur < 17 else 'sudah punya ktp'\n",
    "status_ktp"
   ]
  },
  {
   "cell_type": "code",
   "execution_count": 1,
   "metadata": {},
   "outputs": [
    {
     "name": "stdout",
     "output_type": "stream",
     "text": [
      "ada foo\n"
     ]
    }
   ],
   "source": [
    "if 'foo' in 'This is our foods':\n",
    "    print('ada foo')\n",
    "\n",
    "list1 = [10,20,30,40]\n",
    "\n"
   ]
  },
  {
   "cell_type": "markdown",
   "metadata": {},
   "source": [
    "## Looping"
   ]
  },
  {
   "cell_type": "markdown",
   "metadata": {},
   "source": [
    "### While"
   ]
  },
  {
   "cell_type": "code",
   "execution_count": 2,
   "metadata": {},
   "outputs": [
    {
     "name": "stdout",
     "output_type": "stream",
     "text": [
      "10\n",
      "9\n",
      "8\n",
      "7\n",
      "6\n",
      "5\n",
      "4\n",
      "3\n",
      "2\n",
      "1\n"
     ]
    }
   ],
   "source": [
    "a = 10\n",
    "\n",
    "while a > 0:\n",
    "    print(a)\n",
    "    a -= 1"
   ]
  },
  {
   "cell_type": "code",
   "execution_count": 4,
   "metadata": {},
   "outputs": [
    {
     "name": "stdout",
     "output_type": "stream",
     "text": [
      "0\n",
      "2\n",
      "4\n",
      "6\n",
      "8\n"
     ]
    }
   ],
   "source": [
    "i = 0\n",
    "while i < 10:\n",
    "    print(i)\n",
    "    i += 2 #i = i +1"
   ]
  },
  {
   "cell_type": "code",
   "execution_count": 8,
   "metadata": {},
   "outputs": [
    {
     "name": "stdout",
     "output_type": "stream",
     "text": [
      "0\n",
      "1\n",
      "2\n",
      "di luar loop\n"
     ]
    }
   ],
   "source": [
    "i = 0\n",
    "while i < 10:\n",
    "    \n",
    "    if i == 3:\n",
    "        break\n",
    "    print(i)\n",
    "    i += 1 #i = i +1\n",
    "\n",
    "print('di luar loop')"
   ]
  },
  {
   "cell_type": "code",
   "execution_count": 11,
   "metadata": {},
   "outputs": [
    {
     "name": "stdout",
     "output_type": "stream",
     "text": [
      "1\n",
      "2\n",
      "4\n",
      "5\n",
      "6\n",
      "7\n",
      "8\n",
      "9\n",
      "10\n",
      "di luar loop\n"
     ]
    }
   ],
   "source": [
    "i = 0\n",
    "while i < 10:\n",
    "    i += 1 #i = i +1\n",
    "    if i == 3:\n",
    "        continue\n",
    "    print(i)\n",
    "print('di luar loop')"
   ]
  },
  {
   "cell_type": "code",
   "execution_count": 12,
   "metadata": {},
   "outputs": [
    {
     "name": "stdout",
     "output_type": "stream",
     "text": [
      "1\n",
      "2\n",
      "3\n",
      "4\n",
      "5\n",
      "6\n",
      "7\n",
      "8\n",
      "9\n",
      "10\n",
      "di luar loop\n"
     ]
    }
   ],
   "source": [
    "i = 0\n",
    "while i < 10:\n",
    "    i += 1 #i = i +1\n",
    "    if i == 3:\n",
    "        pass\n",
    "    print(i)\n",
    "print('di luar loop')"
   ]
  },
  {
   "cell_type": "code",
   "execution_count": 19,
   "metadata": {},
   "outputs": [
    {
     "name": "stdout",
     "output_type": "stream",
     "text": [
      "0 0 0 0 0 0 0 0 0 0 \n",
      "1 1 1 1 1 1 1 1 1 1 \n",
      "2 2 2 2 2 2 2 2 2 2 \n",
      "3 3 3 3 3 3 3 3 3 3 \n",
      "4 4 4 4 4 4 4 4 4 4 \n",
      "5 5 5 5 5 5 5 5 5 5 \n",
      "6 6 6 6 6 6 6 6 6 6 \n",
      "7 7 7 7 7 7 7 7 7 7 \n",
      "8 8 8 8 8 8 8 8 8 8 \n",
      "9 9 9 9 9 9 9 9 9 9 \n"
     ]
    }
   ],
   "source": [
    "i = j =0\n",
    "\n",
    "while i < 10:\n",
    "    j = 0\n",
    "    while j < 10:\n",
    "        print(i, end=' ')\n",
    "        j += 1\n",
    "    print()\n",
    "    i += 1"
   ]
  },
  {
   "cell_type": "code",
   "execution_count": 20,
   "metadata": {},
   "outputs": [
    {
     "name": "stdout",
     "output_type": "stream",
     "text": [
      "1\n",
      "2\n",
      "di luar loop\n"
     ]
    }
   ],
   "source": [
    "i = 0\n",
    "while i < 10:\n",
    "    i += 1 #i = i +1\n",
    "    if i == 3:\n",
    "        break\n",
    "    print(i)\n",
    "else:\n",
    "    print('Akhir loop')\n",
    "\n",
    "print('di luar loop')    "
   ]
  },
  {
   "cell_type": "markdown",
   "metadata": {},
   "source": [
    "### For Loop"
   ]
  },
  {
   "cell_type": "code",
   "execution_count": 3,
   "metadata": {},
   "outputs": [
    {
     "name": "stdout",
     "output_type": "stream",
     "text": [
      "abc\n",
      "3\n",
      "def\n",
      "3\n",
      "hij\n",
      "3\n",
      "klm\n",
      "3\n"
     ]
    }
   ],
   "source": [
    "list2 = ['abc', 'def', 'hij', 'klm']\n",
    "\n",
    "for i in list2:\n",
    "    print(i)\n",
    "    print(len(i))"
   ]
  },
  {
   "cell_type": "code",
   "execution_count": 7,
   "metadata": {},
   "outputs": [
    {
     "name": "stdout",
     "output_type": "stream",
     "text": [
      "pertama\n",
      "1\n",
      "kedua\n",
      "2\n",
      "ketiga\n",
      "3\n",
      "keempat\n",
      "4\n"
     ]
    }
   ],
   "source": [
    "dictionary1 = {\n",
    "    'pertama' : 1,\n",
    "    'kedua' : 2,\n",
    "    'ketiga' : 3,\n",
    "    'keempat' : 4\n",
    "}\n",
    "\n",
    "for key in dictionary1:\n",
    "    print(key)\n",
    "    print(dictionary1[key])"
   ]
  },
  {
   "cell_type": "code",
   "execution_count": 8,
   "metadata": {},
   "outputs": [
    {
     "name": "stdout",
     "output_type": "stream",
     "text": [
      "0\n",
      "1\n",
      "2\n",
      "3\n",
      "4\n"
     ]
    }
   ],
   "source": [
    "for number in (0,1,2,3,4):\n",
    "    print(number)"
   ]
  },
  {
   "cell_type": "code",
   "execution_count": 10,
   "metadata": {},
   "outputs": [
    {
     "name": "stdout",
     "output_type": "stream",
     "text": [
      "0\n",
      "1\n",
      "2\n",
      "3\n",
      "4\n",
      "5\n"
     ]
    }
   ],
   "source": [
    "for number in range(6):\n",
    "    print(number)"
   ]
  },
  {
   "cell_type": "code",
   "execution_count": 15,
   "metadata": {},
   "outputs": [
    {
     "name": "stdout",
     "output_type": "stream",
     "text": [
      "0\n",
      "2\n",
      "4\n",
      "6\n",
      "8\n"
     ]
    }
   ],
   "source": [
    "for number in range(0,10,2):\n",
    "    print(number)"
   ]
  },
  {
   "cell_type": "code",
   "execution_count": 16,
   "metadata": {},
   "outputs": [
    {
     "name": "stdout",
     "output_type": "stream",
     "text": [
      "1\n",
      "2\n"
     ]
    }
   ],
   "source": [
    "for i in range(1,11):\n",
    "    if i  == 3:\n",
    "        break\n",
    "    print(i)"
   ]
  },
  {
   "cell_type": "code",
   "execution_count": 17,
   "metadata": {},
   "outputs": [
    {
     "name": "stdout",
     "output_type": "stream",
     "text": [
      "1\n",
      "2\n",
      "4\n",
      "5\n",
      "6\n",
      "7\n",
      "8\n",
      "9\n",
      "10\n"
     ]
    }
   ],
   "source": [
    "for i in range(1,11):\n",
    "    if i  == 3:\n",
    "        continue\n",
    "    print(i)"
   ]
  },
  {
   "cell_type": "code",
   "execution_count": 18,
   "metadata": {},
   "outputs": [
    {
     "name": "stdout",
     "output_type": "stream",
     "text": [
      "1\n",
      "2\n",
      "4\n",
      "5\n",
      "6\n",
      "7\n",
      "8\n",
      "9\n",
      "10\n",
      "Loop selesai\n"
     ]
    }
   ],
   "source": [
    "for i in range(1,11):\n",
    "    if i  == 3:\n",
    "        continue\n",
    "    print(i)\n",
    "else:\n",
    "    print(\"Loop selesai\")"
   ]
  },
  {
   "cell_type": "code",
   "execution_count": 19,
   "metadata": {},
   "outputs": [
    {
     "name": "stdout",
     "output_type": "stream",
     "text": [
      "1\n",
      "2\n"
     ]
    }
   ],
   "source": [
    "for i in range(1,11):\n",
    "    if i  == 3:\n",
    "        break\n",
    "    print(i)\n",
    "else:\n",
    "    print(\"Loop selesai\")"
   ]
  },
  {
   "cell_type": "code",
   "execution_count": null,
   "metadata": {},
   "outputs": [],
   "source": []
  }
 ],
 "metadata": {
  "kernelspec": {
   "display_name": "Python 3.9.9 64-bit",
   "language": "python",
   "name": "python3"
  },
  "language_info": {
   "codemirror_mode": {
    "name": "ipython",
    "version": 3
   },
   "file_extension": ".py",
   "mimetype": "text/x-python",
   "name": "python",
   "nbconvert_exporter": "python",
   "pygments_lexer": "ipython3",
   "version": "3.9.9"
  },
  "orig_nbformat": 4,
  "vscode": {
   "interpreter": {
    "hash": "14958d3aee5f1cad06795f787e54b96185c25fb40dfec723a5be941f3a531b8c"
   }
  }
 },
 "nbformat": 4,
 "nbformat_minor": 2
}
